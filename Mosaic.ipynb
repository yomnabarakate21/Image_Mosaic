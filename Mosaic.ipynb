{
 "cells": [
  {
   "cell_type": "code",
   "execution_count": 158,
   "metadata": {},
   "outputs": [],
   "source": [
    "#import pacakges \n",
    "import matplotlib\n",
    "matplotlib.use('TkAgg')\n",
    "import matplotlib.pyplot as plt\n",
    "from PIL import Image\n",
    "import math\n",
    "import numpy\n",
    "import cv2\n",
    "from pylab import *\n",
    "from numpy import *\n",
    "from numpy import array\n",
    "import random;\n",
    "from scipy.interpolate import RectBivariateSpline"
   ]
  },
  {
   "cell_type": "markdown",
   "metadata": {},
   "source": [
    "# 1) Use ginput to find correspondances"
   ]
  },
  {
   "cell_type": "code",
   "execution_count": 316,
   "metadata": {},
   "outputs": [],
   "source": [
    "def getPoints(image):\n",
    "    img1 = Image.open(image) \n",
    "    plt.figure(1)\n",
    "    plt.imshow(img1)\n",
    "    print(\"Please click\") \n",
    "    x = plt.ginput(4)\n",
    "    return x"
   ]
  },
  {
   "cell_type": "code",
   "execution_count": 317,
   "metadata": {},
   "outputs": [
    {
     "name": "stdout",
     "output_type": "stream",
     "text": [
      "Please click\n"
     ]
    },
    {
     "name": "stderr",
     "output_type": "stream",
     "text": [
      "/usr/lib/python3/dist-packages/matplotlib/backend_bases.py:2437: MatplotlibDeprecationWarning: Using default event loop until function specific to this GUI is implemented\n",
      "  warnings.warn(str, mplDeprecation)\n"
     ]
    },
    {
     "name": "stdout",
     "output_type": "stream",
     "text": [
      "[(780.7925483121329, 539.818493150685), (886.0493976272015, 325.12793542074377), (1018.0381451810175, 331.8109099804306), (907.7690649461839, 540.6538649706458)]\n",
      "Please click\n",
      "[(324.67953461350294, 505.5682485322897), (442.46696122798437, 301.73752446183966), (559.4190160225048, 317.609589041096), (446.6438203277886, 509.745107632094)]\n"
     ]
    }
   ],
   "source": [
    "pts_src = getPoints('./Images/image1.jpg')\n",
    "print(pts_src)\n",
    "pts_dst=getPoints('./Images/image2.jpg')\n",
    "print(pts_dst)\n",
    "plt.close()"
   ]
  },
  {
   "cell_type": "code",
   "execution_count": 318,
   "metadata": {},
   "outputs": [
    {
     "name": "stdout",
     "output_type": "stream",
     "text": [
      "(683, 1024, 3)\n",
      "(683, 1024, 3)\n"
     ]
    }
   ],
   "source": [
    "#check sizes of image one and image 2\n",
    "img2 = array(Image.open('./Images/image2.jpg'))\n",
    "print(img2.shape)\n",
    "img1 = array(Image.open('./Images/image1.jpg'))\n",
    "print (img1.shape)"
   ]
  },
  {
   "cell_type": "markdown",
   "metadata": {},
   "source": [
    "#"
   ]
  },
  {
   "cell_type": "code",
   "execution_count": 351,
   "metadata": {},
   "outputs": [],
   "source": [
    "#get x,y,x',y' arrays from cores\n",
    "def getArrays(src,dest):\n",
    "    x=[]\n",
    "    y=[]\n",
    "    xdash=[]\n",
    "    ydash=[]\n",
    "\n",
    "    for i in range(4):\n",
    "        y.append(src[i][0])\n",
    "        x.append(src[i][1])\n",
    "        ydash.append(dest[i][0])\n",
    "        xdash.append(dest[i][1])\n",
    "\n",
    "    return x,y,xdash,ydash"
   ]
  },
  {
   "cell_type": "code",
   "execution_count": 352,
   "metadata": {},
   "outputs": [],
   "source": [
    "#homography parameters implemntation\n",
    "def findHomography (src, dest):\n",
    "    b = dest.flatten().reshape(-1,1)\n",
    "\n",
    "    x,y,xdash,ydash = getArrays(src,dest)\n",
    "\n",
    "    M = np.array([\n",
    "          [x[0],y[0],1,0,0,0,-x[0]*xdash[0], -y[0]*xdash[0]],\n",
    "          [0,0,0,x[0],y[0],1,-x[0]*ydash[0], -y[0]*ydash[0]],\n",
    "          [x[1],y[1],1,0,0,0,-x[1]*xdash[1],-y[1]*xdash[1]],\n",
    "          [0,0,0,x[1],y[1],1,-x[1]*ydash[1],-y[1]*ydash[1]],\n",
    "          [x[2],y[2],1,0,0,0,-x[2]*xdash[2],-y[2]*xdash[2]],\n",
    "          [0,0,0,x[2],y[2],1,-x[2]*ydash[2],-y[2]*ydash[2]],\n",
    "          [x[3],y[3],1,0,0,0,-x[3]*xdash[3],-y[3]*xdash[3]],\n",
    "          [0,0,0,x[3],y[3],1,-x[3]*ydash[3],-y[3]*ydash[3]]\n",
    "      ])\n",
    "    a = np.dot(np.linalg.inv(M),b)\n",
    "    a = np.append(a,1)\n",
    "    return a.reshape(3,3)"
   ]
  },
  {
   "cell_type": "code",
   "execution_count": 353,
   "metadata": {},
   "outputs": [
    {
     "name": "stdout",
     "output_type": "stream",
     "text": [
      "calculated homography [[-4.46961746e-01  8.21391529e-01  2.70565473e+02]\n",
      " [ 5.14312555e-01  5.16763310e-01  1.27971747e+02]\n",
      " [-1.04366138e-04  3.69285047e-04  1.00000000e+00]]\n",
      "actual homogrpahy [[ 4.34043935e-01 -4.19622184e-01  2.91709494e+02]\n",
      " [ 1.46491654e-01  4.41418278e-01  1.61369294e+02]\n",
      " [-3.62463336e-04 -9.14274844e-05  1.00000000e+00]]\n"
     ]
    }
   ],
   "source": [
    "#test to check homography function\n",
    "pts_src_test = np.array([[141, 131], [480, 159], [493, 630],[64, 601]])\n",
    "pts_dst_test = np.array([[318, 256],[534, 372],[316, 670],[73, 473]])\n",
    "h_test=findHomography(pts_src_test,pts_dst_test)\n",
    "print(\"calculated homography\", h_test)\n",
    "h_test, status_tst = cv2.findHomography(pts_src_test, pts_dst_test)\n",
    "print(\"actual homogrpahy\", h_test)\n"
   ]
  },
  {
   "cell_type": "code",
   "execution_count": 354,
   "metadata": {},
   "outputs": [
    {
     "name": "stdout",
     "output_type": "stream",
     "text": [
      "calculated homography [[ 3.61064622e-01  1.19956996e+00  3.06319342e+02]\n",
      " [ 1.19697934e+00  4.38747953e-01 -6.66992129e+01]\n",
      " [ 1.59469058e-04  3.08235957e-04  1.00000000e+00]]\n",
      "actual homogrpahy [[ 7.63504839e-01  1.38385778e-01  4.27004668e+02]\n",
      " [-1.61048095e-01  9.81394155e-01  7.11047588e+01]\n",
      " [-2.50182943e-04  6.96481766e-05  1.00000000e+00]]\n"
     ]
    }
   ],
   "source": [
    "h=findHomography(np.array(pts_dst),np.array(pts_src))\n",
    "print(\"calculated homography\", h)\n",
    "h, status = cv2.findHomography(np.array(pts_dst),np.array(pts_src))\n",
    "print(\"actual homogrpahy\", h)"
   ]
  },
  {
   "cell_type": "markdown",
   "metadata": {},
   "source": [
    "# Warping the source image to the destination image"
   ]
  },
  {
   "cell_type": "markdown",
   "metadata": {},
   "source": [
    "## Forward warping "
   ]
  },
  {
   "cell_type": "code",
   "execution_count": 355,
   "metadata": {},
   "outputs": [],
   "source": [
    "def correct(A):\n",
    "    if A[2]!=1:\n",
    "        A[0] = (A[0]/A[2])\n",
    "        A[1] = (A[1]/A[2])\n",
    "        A[2] = (A[2]/A[2])\n",
    "    return A\n",
    "def round_arr(A):\n",
    "    A[0]= round(A[0])\n",
    "    A[1]= round(A[1])\n",
    "    A[2]= round(A[2])\n",
    "    return A  "
   ]
  },
  {
   "cell_type": "code",
   "execution_count": 356,
   "metadata": {},
   "outputs": [],
   "source": [
    "def Get_max_min_Axis (A,B,C,D):\n",
    "    \n",
    "    min_x = min(A[0],B[0],C[0],D[0])\n",
    "    max_x = max(A[0],B[0],C[0],D[0])\n",
    "    min_y = min(A[1],B[1],C[1],D[1])\n",
    "    max_y = max(A[1],B[1],C[1],D[1])\n",
    "   \n",
    "    return min_x , max_x , min_y , max_y"
   ]
  },
  {
   "cell_type": "code",
   "execution_count": 357,
   "metadata": {},
   "outputs": [],
   "source": [
    "def Get_new_boundaries (h,N,M):\n",
    "    A= [0,0,1]\n",
    "    A_new  = np.dot(h,A)\n",
    "    A_new = correct(A_new)\n",
    "    A_new = round_arr(A_new)\n",
    "    print(\"old value of A = \",A,\"new value = \",A_new)\n",
    "    B=[682,0,1]\n",
    "    B_new = np.matmul(h,B )\n",
    "    B_new = correct(B_new)\n",
    "    B_new = round_arr(B_new)\n",
    "    C=[0,1023,1]\n",
    "    print(\"old value of B = \",B,\"new value = \",B_new)\n",
    "    C_new = np.matmul(h,C )\n",
    "    C_new = correct(C_new)\n",
    "    C_new = round_arr(C_new)\n",
    "    D=[682,1023,1]\n",
    "    print(\"old value of C= \",C,\"new value = \",C_new)\n",
    "    D_new = np.matmul(h,D )\n",
    "    D_new = correct(D_new)\n",
    "    D_new = round_arr(D_new)\n",
    "    print(\"old value of D = \",D,\"new value = \",D_new)\n",
    "    #print(A_new,B_new,C_new,D_new)\n",
    "    return A_new,B_new,C_new,D_new"
   ]
  },
  {
   "cell_type": "code",
   "execution_count": 358,
   "metadata": {},
   "outputs": [
    {
     "name": "stdout",
     "output_type": "stream",
     "text": [
      "old value of A =  [0, 0, 1] new value =  [427.  71.   1.]\n",
      "old value of B =  [682, 0, 1] new value =  [ 1.143e+03 -4.700e+01  1.000e+00]\n",
      "old value of C=  [0, 1023, 1] new value =  [5.310e+02 1.004e+03 1.000e+00]\n",
      "old value of D =  [682, 1023, 1] new value =  [1.209e+03 1.072e+03 1.000e+00]\n"
     ]
    }
   ],
   "source": [
    "A,B,C,D = Get_new_boundaries(h,img2.shape[0],img2.shape[1])"
   ]
  },
  {
   "cell_type": "code",
   "execution_count": 359,
   "metadata": {},
   "outputs": [
    {
     "name": "stdout",
     "output_type": "stream",
     "text": [
      "427.0 1209.0 -47.0 1072.0\n"
     ]
    }
   ],
   "source": [
    "min_x , max_x , min_y, max_y = Get_max_min_Axis (A,B,C,D)\n",
    "print(min_x , max_x , min_y, max_y)"
   ]
  },
  {
   "cell_type": "code",
   "execution_count": 360,
   "metadata": {},
   "outputs": [
    {
     "name": "stdout",
     "output_type": "stream",
     "text": [
      "the new width is  1119 the new height is 782\n"
     ]
    }
   ],
   "source": [
    "new_h = int(round(abs(max_x - min_x)))\n",
    "new_w = int(round(abs(max_y - min_y)))\n",
    "print(\"the new width is \",new_w,\"the new height is\",new_h)"
   ]
  },
  {
   "cell_type": "markdown",
   "metadata": {},
   "source": [
    "## Inverse warping"
   ]
  },
  {
   "cell_type": "code",
   "execution_count": 375,
   "metadata": {},
   "outputs": [],
   "source": [
    "#compute inverse homography\n",
    "h_inv = np.linalg.inv(h)"
   ]
  },
  {
   "cell_type": "code",
   "execution_count": 376,
   "metadata": {},
   "outputs": [],
   "source": [
    "#convert the image to greyfor trial\n",
    "gray= cv2.cvtColor(img2,cv2.COLOR_BGR2GRAY)"
   ]
  },
  {
   "cell_type": "code",
   "execution_count": 377,
   "metadata": {},
   "outputs": [],
   "source": [
    "#prepare x and y arrays for interpolation\n",
    "x = np.arange(0, img2.shape[0], 1)\n",
    "y = np.arange(0, img2.shape[1], 1)\n",
    "interp_spline = RectBivariateSpline(x.reshape(-1,1), y.reshape(-1,1), gray)"
   ]
  },
  {
   "cell_type": "code",
   "execution_count": 378,
   "metadata": {},
   "outputs": [],
   "source": [
    "new_img = np.zeros((new_h,new_w))\n",
    "l=[]\n",
    "for i in range (int(min_x),int(min_x+new_h),1):\n",
    "    for j in range (int(min_y),int((min_y+new_w)),1):\n",
    "        point = [i,j,1]\n",
    "        co_ord = np.matmul(h_inv,point)\n",
    "        co_ord = correct(co_ord)\n",
    "        xi=co_ord[0]\n",
    "        yi=co_ord[1]\n",
    "        if (xi>=0 and yi>=0):\n",
    "            intensity=int(interp_spline.ev(xi, yi))\n",
    "            l.append(intensity)\n",
    "        else:\n",
    "            l.append(0)"
   ]
  },
  {
   "cell_type": "code",
   "execution_count": 389,
   "metadata": {},
   "outputs": [
    {
     "name": "stdout",
     "output_type": "stream",
     "text": [
      "width 782 height 1119\n"
     ]
    }
   ],
   "source": [
    "#show the warped image in grey scale\n",
    "warped_image = np.array(l).reshape(new_h,new_w)\n",
    "print(\"width\",warped_image.shape[0],\"height\",warped_image.shape[1])\n",
    "plt.imshow(warped_image,cmap='gray')\n",
    "plt.show()"
   ]
  },
  {
   "cell_type": "markdown",
   "metadata": {},
   "source": [
    "# Stitch the two images together"
   ]
  },
  {
   "cell_type": "code",
   "execution_count": 398,
   "metadata": {},
   "outputs": [
    {
     "name": "stdout",
     "output_type": "stream",
     "text": [
      "(1465, 2238)\n",
      "(777, 1110)\n"
     ]
    }
   ],
   "source": [
    "result = np.zeros((img1.shape[0]+new_h,warped_image.shape[1]+new_w))\n",
    "print(result.shape)\n",
    "a = int (A[0])\n",
    "b = int (A[1])\n",
    "result[b:(b+782),a:(a+1119)]=warped_image\n",
    "print(r.shape)\n",
    "plt.imshow(result,cmap='gray')\n",
    "plt.show()\n",
    "plt.close()\n"
   ]
  },
  {
   "cell_type": "code",
   "execution_count": 399,
   "metadata": {},
   "outputs": [],
   "source": [
    "gray_2= cv2.cvtColor(img1,cv2.COLOR_BGR2GRAY)\n",
    "result[0:img1.shape[0],0:img1.shape[1]]=gray_2\n",
    "plt.imshow(result,cmap='gray')\n",
    "plt.show()\n",
    "plt.close()"
   ]
  },
  {
   "cell_type": "code",
   "execution_count": null,
   "metadata": {},
   "outputs": [
    {
     "name": "stdout",
     "output_type": "stream",
     "text": [
      "[[ 7.63504839e-01  1.38385778e-01  4.27004668e+02]\n",
      " [-1.61048095e-01  9.81394155e-01  7.11047588e+01]\n",
      " [-2.50182943e-04  6.96481766e-05  1.00000000e+00]]\n",
      "(683, 2048, 3)\n"
     ]
    }
   ],
   "source": [
    "dst = cv2.warpPerspective(img2,h,(img1.shape[1] + img2.shape[1], img1.shape[0]))\n",
    "print (h)\n",
    "print(dst.shape)\n",
    "figure(2)\n",
    "plt.imshow(dst,cmap='gray')\n",
    "plt.show()\n",
    "plt.close()\n",
    "dst[0:img1.shape[0], 0:img1.shape[1]] = img1\n",
    "plt.imshow(dst)\n",
    "plt.show()"
   ]
  }
 ],
 "metadata": {
  "kernelspec": {
   "display_name": "Python 3",
   "language": "python",
   "name": "python3"
  },
  "language_info": {
   "codemirror_mode": {
    "name": "ipython",
    "version": 3
   },
   "file_extension": ".py",
   "mimetype": "text/x-python",
   "name": "python",
   "nbconvert_exporter": "python",
   "pygments_lexer": "ipython3",
   "version": "3.5.2"
  }
 },
 "nbformat": 4,
 "nbformat_minor": 2
}
