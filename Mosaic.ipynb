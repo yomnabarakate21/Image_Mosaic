{
 "cells": [
  {
   "cell_type": "code",
   "execution_count": 8,
   "metadata": {},
   "outputs": [],
   "source": [
    "import matplotlib\n",
    "matplotlib.use('TkAgg')\n",
    "import matplotlib.pyplot as plt\n",
    "from PIL import Image\n",
    "import math\n",
    "import numpy as np"
   ]
  },
  {
   "cell_type": "code",
   "execution_count": 10,
   "metadata": {},
   "outputs": [
    {
     "name": "stdout",
     "output_type": "stream",
     "text": [
      "Please click\n"
     ]
    },
    {
     "name": "stderr",
     "output_type": "stream",
     "text": [
      "/usr/lib/python3/dist-packages/matplotlib/backend_bases.py:2437: MatplotlibDeprecationWarning: Using default event loop until function specific to this GUI is implemented\n",
      "  warnings.warn(str, mplDeprecation)\n"
     ]
    },
    {
     "name": "stdout",
     "output_type": "stream",
     "text": [
      "clicked [(643.62903225806451, 149.00000000000011), (383.5, 196.48387096774195), (575.5, 351.32258064516128)]\n"
     ]
    }
   ],
   "source": [
    "img1 = Image.open('image1.jpg')\n",
    "plt.figure()\n",
    "plt.imshow(img1)\n",
    "print(\"Please click\")\n",
    "x = plt.ginput(3)\n",
    "print(\"clicked\", x)\n",
    "plt.show()"
   ]
  },
  {
   "cell_type": "code",
   "execution_count": 11,
   "metadata": {},
   "outputs": [
    {
     "name": "stdout",
     "output_type": "stream",
     "text": [
      "Please click\n"
     ]
    },
    {
     "name": "stderr",
     "output_type": "stream",
     "text": [
      "/usr/lib/python3/dist-packages/matplotlib/backend_bases.py:2437: MatplotlibDeprecationWarning: Using default event loop until function specific to this GUI is implemented\n",
      "  warnings.warn(str, mplDeprecation)\n"
     ]
    },
    {
     "name": "stdout",
     "output_type": "stream",
     "text": [
      "clicked [(517.69354838709683, 435.96774193548384), (391.75806451612902, 266.67741935483878), (666.33870967741939, 138.67741935483878)]\n"
     ]
    }
   ],
   "source": [
    "img2 = Image.open('image2.jpg')\n",
    "plt.figure()\n",
    "plt.imshow(img2)\n",
    "print(\"Please click\")\n",
    "y = plt.ginput(3)\n",
    "print(\"clicked\", y)\n",
    "plt.show()"
   ]
  },
  {
   "cell_type": "code",
   "execution_count": 12,
   "metadata": {},
   "outputs": [
    {
     "name": "stdout",
     "output_type": "stream",
     "text": [
      "points in x [(643.62903225806451, 149.00000000000011), (383.5, 196.48387096774195), (575.5, 351.32258064516128)]\n",
      "points in y [(517.69354838709683, 435.96774193548384), (391.75806451612902, 266.67741935483878), (666.33870967741939, 138.67741935483878)]\n"
     ]
    }
   ],
   "source": [
    "print (\"points in x\",x)\n",
    "print(\"points in y\",y)"
   ]
  }
 ],
 "metadata": {
  "kernelspec": {
   "display_name": "Python 3",
   "language": "python",
   "name": "python3"
  },
  "language_info": {
   "codemirror_mode": {
    "name": "ipython",
    "version": 3
   },
   "file_extension": ".py",
   "mimetype": "text/x-python",
   "name": "python",
   "nbconvert_exporter": "python",
   "pygments_lexer": "ipython3",
   "version": "3.5.2"
  }
 },
 "nbformat": 4,
 "nbformat_minor": 2
}
