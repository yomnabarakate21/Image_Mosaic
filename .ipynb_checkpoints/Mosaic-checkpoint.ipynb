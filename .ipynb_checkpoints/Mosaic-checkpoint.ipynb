{
 "cells": [
  {
   "cell_type": "code",
   "execution_count": 32,
   "metadata": {},
   "outputs": [],
   "source": [
    "#import pacakges \n",
    "import matplotlib\n",
    "matplotlib.use('TkAgg')\n",
    "import matplotlib.pyplot as plt\n",
    "from PIL import Image\n",
    "\n",
    "import math\n",
    "import numpy\n",
    "import cv2\n",
    "from pylab import *\n",
    "from numpy import *\n",
    "from numpy import array\n",
    "import random;"
   ]
  },
  {
   "cell_type": "markdown",
   "metadata": {},
   "source": [
    "# 1) Use ginput to find correspondances"
   ]
  },
  {
   "cell_type": "code",
   "execution_count": 11,
   "metadata": {},
   "outputs": [],
   "source": [
    "def getPoints(image):\n",
    "    img1 = Image.open(image) \n",
    "    plt.figure()\n",
    "    plt.imshow(img1)\n",
    "    print(\"Please click\") \n",
    "    x = plt.ginput(4)\n",
    "    return x"
   ]
  },
  {
   "cell_type": "code",
   "execution_count": 17,
   "metadata": {},
   "outputs": [
    {
     "name": "stdout",
     "output_type": "stream",
     "text": [
      "Please click\n",
      "[(887.73089952429, 328.956851927084), (926.2188495157718, 328.956851927084), (811.6500681457796, 320.0061658825534), (774.0571867587507, 492.75440654199485)]\n",
      "Please click\n",
      "[(445.5670089244761, 304.78999960685127), (478.6845472892395, 308.3702740246635), (374.85658917268404, 293.15410774896145), (316.6771298832348, 461.4270053861376)]\n"
     ]
    }
   ],
   "source": [
    "\n",
    "pts_src = getPoints('./Images/image1.jpg')\n",
    "print(pts_src)\n",
    "pts_dst=getPoints('./Images/image2.jpg')\n",
    "print(pts_dst)"
   ]
  },
  {
   "cell_type": "code",
   "execution_count": 34,
   "metadata": {},
   "outputs": [
    {
     "data": {
      "text/plain": [
       "(683, 1024, 3)"
      ]
     },
     "execution_count": 34,
     "metadata": {},
     "output_type": "execute_result"
    }
   ],
   "source": [
    "img1 = array(Image.open('./Images/image1.jpg')) \n",
    "img1.shape"
   ]
  },
  {
   "cell_type": "markdown",
   "metadata": {},
   "source": [
    "#"
   ]
  },
  {
   "cell_type": "code",
   "execution_count": 18,
   "metadata": {},
   "outputs": [],
   "source": [
    "#get x,y,x',y' arrays from cores\n",
    "def getArrays(src,dest):\n",
    "    x=[]\n",
    "    y=[]\n",
    "    xdash=[]\n",
    "    ydash=[]\n",
    "\n",
    "    for i in range(4):\n",
    "        x.append(src[i][0])\n",
    "        y.append(src[i][1])\n",
    "        xdash.append(dest[i][0])\n",
    "        ydash.append(dest[i][1])\n",
    "\n",
    "    return x,y,xdash,ydash"
   ]
  },
  {
   "cell_type": "code",
   "execution_count": 19,
   "metadata": {},
   "outputs": [],
   "source": [
    "#homography parameters implemntation\n",
    "def findHomography (src, dest):\n",
    "    b = dest.flatten().reshape(-1,1)\n",
    "\n",
    "    x,y,xdash,ydash = getArrays(src,dest)\n",
    "\n",
    "    M = np.array([\n",
    "          [x[0],y[0],1,0,0,0,-x[0]*xdash[0], -y[0]*xdash[0]],\n",
    "          [0,0,0,x[0],y[0],1,-x[0]*ydash[0], -y[0]*ydash[0]],\n",
    "          [x[1],y[1],1,0,0,0,-x[1]*xdash[1],-y[1]*xdash[1]],\n",
    "          [0,0,0,x[1],y[1],1,-x[1]*ydash[1],-y[1]*ydash[1]],\n",
    "          [x[2],y[2],1,0,0,0,-x[2]*xdash[2],-y[2]*xdash[2]],\n",
    "          [0,0,0,x[2],y[2],1,-x[2]*ydash[2],-y[2]*ydash[2]],\n",
    "          [x[3],y[3],1,0,0,0,-x[3]*xdash[3],-y[3]*xdash[3]],\n",
    "          [0,0,0,x[3],y[3],1,-x[3]*ydash[3],-y[3]*ydash[3]]\n",
    "      ])\n",
    "    a = np.dot(np.linalg.inv(M),b)\n",
    "    a = np.append(a,1)\n",
    "    return a.reshape(3,3)"
   ]
  },
  {
   "cell_type": "code",
   "execution_count": 48,
   "metadata": {},
   "outputs": [
    {
     "name": "stdout",
     "output_type": "stream",
     "text": [
      "calculated homography [[ 4.34043935e-01 -4.19622184e-01  2.91709494e+02]\n",
      " [ 1.46491654e-01  4.41418278e-01  1.61369294e+02]\n",
      " [-3.62463336e-04 -9.14274844e-05  1.00000000e+00]]\n",
      "actual homogrpahy [[ 4.34043935e-01 -4.19622184e-01  2.91709494e+02]\n",
      " [ 1.46491654e-01  4.41418278e-01  1.61369294e+02]\n",
      " [-3.62463336e-04 -9.14274844e-05  1.00000000e+00]]\n"
     ]
    }
   ],
   "source": [
    "#test to check homography function\n",
    "pts_src_test = np.array([[141, 131], [480, 159], [493, 630],[64, 601]])\n",
    "pts_dst_test = np.array([[318, 256],[534, 372],[316, 670],[73, 473]])\n",
    "h_test=findHomography(pts_src_test,pts_dst_test)\n",
    "print(\"calculated homography\", h_test)\n",
    "h_test, status_tst = cv2.findHomography(pts_src_test, pts_dst_test)\n",
    "print(\"actual homogrpahy\", h_test)\n"
   ]
  },
  {
   "cell_type": "code",
   "execution_count": 21,
   "metadata": {},
   "outputs": [
    {
     "name": "stdout",
     "output_type": "stream",
     "text": [
      "calculated homography [[ 7.65795701e-01 -7.42374428e-01 -1.37949172e+02]\n",
      " [ 1.85161387e-01 -3.22770121e-01  1.45419697e+02]\n",
      " [ 3.98926141e-04 -2.08564284e-03  1.00000000e+00]]\n"
     ]
    }
   ],
   "source": [
    "h=findHomography(np.array(pts_src),np.array(pts_dst))\n",
    "print(\"calculated homography\", h)\n"
   ]
  },
  {
   "cell_type": "markdown",
   "metadata": {},
   "source": [
    "# Warping"
   ]
  },
  {
   "cell_type": "markdown",
   "metadata": {},
   "source": [
    "# Forward"
   ]
  },
  {
   "cell_type": "code",
   "execution_count": 104,
   "metadata": {},
   "outputs": [],
   "source": [
    "def Get_new_boundaries (h,M,N):\n",
    "    A_new  = np.matmul(h,[0,0,1] )\n",
    "    A_new = correct(A_new)\n",
    "    #A_new = round_arr(A_new)\n",
    "    B_new = np.matmul(h,[0,N-1,1] )\n",
    "    B_new = correct(B_new)\n",
    "   # B_new = round_arr(B_new)\n",
    "    C_new = np.matmul(h,[M-1,0,1] )\n",
    "    C_new = correct(C_new)\n",
    "    #C_new = round_arr(C_new)\n",
    "    D_new = np.matmul(h,[M-1,N-1,1] )\n",
    "    D_new = correct(D_new)\n",
    "    #D_new = round_arr(D_new)\n",
    "    print(A_new,B_new,C_new,D_new)\n",
    "    return A_new,B_new,C_new,D_new"
   ]
  },
  {
   "cell_type": "code",
   "execution_count": 72,
   "metadata": {},
   "outputs": [],
   "source": [
    "def correct(A):\n",
    "    if A[2]!=1:\n",
    "        A[0] = (A[0]/A[2])\n",
    "        A[1] = (A[1]/A[2])\n",
    "        A[2] = (A[2]/A[2])\n",
    "    return A\n",
    "def round_arr(A):\n",
    "    A[0]= round(A[0])\n",
    "    A[1]= round(A[1])\n",
    "    A[2]= round(A[2])\n",
    "    return A  \n",
    "    \n",
    "        "
   ]
  },
  {
   "cell_type": "code",
   "execution_count": 40,
   "metadata": {},
   "outputs": [],
   "source": [
    "def Get_max_min_Axis (A,B,C,D):\n",
    "    \n",
    "    min_x = min(A[0],B[0],C[0],D[0])\n",
    "    max_x = max(A[0],B[0],C[0],D[0])\n",
    "    min_y = min(A[1],B[1],C[1],D[1])\n",
    "    max_y = max(A[1],B[1],C[1],D[1])\n",
    "   \n",
    "    return min_x , max_x , min_y , max_y"
   ]
  },
  {
   "cell_type": "code",
   "execution_count": 107,
   "metadata": {},
   "outputs": [
    {
     "name": "stdout",
     "output_type": "stream",
     "text": [
      "[-137.94917165  145.41969672    1.        ] [791.62686483 162.9958349    1.        ] [302.12505052 213.58908669   1.        ] [435.41027238  67.89438823   1.        ]\n"
     ]
    }
   ],
   "source": [
    "A,B,C,D = Get_new_boundaries(h,img1.shape[0],img1.shape[1])"
   ]
  },
  {
   "cell_type": "code",
   "execution_count": 118,
   "metadata": {},
   "outputs": [
    {
     "name": "stdout",
     "output_type": "stream",
     "text": [
      "-137.9491716491757 791.6268648280867 67.89438822914488 213.5890866946835\n"
     ]
    }
   ],
   "source": [
    "min_x , max_x , min_y, max_y = Get_max_min_Axis (A,B,C,D)\n",
    "print(min_x , max_x , min_y, max_y)"
   ]
  },
  {
   "cell_type": "code",
   "execution_count": 119,
   "metadata": {},
   "outputs": [
    {
     "name": "stdout",
     "output_type": "stream",
     "text": [
      "929 145\n"
     ]
    }
   ],
   "source": [
    "new_w = int(abs(max_x - min_x))\n",
    "new_h = int(abs(max_y - min_y))\n",
    "print(new_w,new_h)"
   ]
  },
  {
   "cell_type": "code",
   "execution_count": 117,
   "metadata": {},
   "outputs": [],
   "source": [
    "h_inv = np.linalg.inv(h)\n",
    "#h_inv"
   ]
  },
  {
   "cell_type": "code",
   "execution_count": 120,
   "metadata": {},
   "outputs": [
    {
     "name": "stdout",
     "output_type": "stream",
     "text": [
      "(929, 145)\n",
      "(683, 1024, 3)\n"
     ]
    }
   ],
   "source": [
    "n=np.zeros((new_w,new_h))\n",
    "print(n.shape)\n",
    "print(img1.shape)"
   ]
  },
  {
   "cell_type": "code",
   "execution_count": null,
   "metadata": {},
   "outputs": [],
   "source": [
    "gray= cv2.cvtColor(img1,cv2.COLOR_BGR2GRAY)"
   ]
  },
  {
   "cell_type": "code",
   "execution_count": 112,
   "metadata": {},
   "outputs": [
    {
     "name": "stdout",
     "output_type": "stream",
     "text": [
      "[6.820e+02 1.023e+03 1.000e+00]\n"
     ]
    }
   ],
   "source": [
    "co_ord = np.matmul(h_inv,D)\n",
    "print(correct(co_ord))"
   ]
  },
  {
   "cell_type": "code",
   "execution_count": null,
   "metadata": {},
   "outputs": [],
   "source": [
    "new_img = np.zeros((new_w,new_h))\n",
    "for i in range (min_x,(min_x+new_w),1):\n",
    "    for j in range (min_y,(min_y+new_h),1):\n",
    "                   point = [i,j,1]\n",
    "                   co_ord = np.matmul(h_inv,point)\n",
    "                   co_ord = correct(co_ord)\n",
    "                   \n",
    "                \n"
   ]
  }
 ],
 "metadata": {
  "kernelspec": {
   "display_name": "Python 3",
   "language": "python",
   "name": "python3"
  },
  "language_info": {
   "codemirror_mode": {
    "name": "ipython",
    "version": 3
   },
   "file_extension": ".py",
   "mimetype": "text/x-python",
   "name": "python",
   "nbconvert_exporter": "python",
   "pygments_lexer": "ipython3",
   "version": "3.6.7"
  }
 },
 "nbformat": 4,
 "nbformat_minor": 2
}
